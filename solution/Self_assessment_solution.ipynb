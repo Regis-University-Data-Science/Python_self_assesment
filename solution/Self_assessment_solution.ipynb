{
 "cells": [
  {
   "cell_type": "markdown",
   "id": "domestic-fraction",
   "metadata": {},
   "source": [
    "- datatypes\n",
    "- math operators\n",
    "- data structures: lists, dictionaries\n",
    "- loops, control flow\n",
    "- functions\n",
    "- packages and modules"
   ]
  },
  {
   "cell_type": "markdown",
   "id": "brilliant-exhaust",
   "metadata": {},
   "source": [
    "Complete the problems in this notebook, then run the cell at the end to calculate your score and see which questions you got right and wrong. If you don't know the answer to a question you can leave it blank.\n",
    "\n",
    "- There is no time limit, although this shouldn't take more than 30 minutes.\n",
    "- Feel free to use any resources while completing this self-assessment.\n",
    "- You should score at least 70%, which means you should get at least 11 of the 15 questions correct.\n",
    "- Be careful to type things exactly, typos will cause you to miss questions."
   ]
  },
  {
   "cell_type": "markdown",
   "id": "liked-natural",
   "metadata": {},
   "source": [
    "# 1. Simple math\n",
    "Using the variables a, b, and c, multiply 17 by 7, then divide by 5 and round down to the nearest integer."
   ]
  },
  {
   "cell_type": "code",
   "execution_count": 1,
   "id": "effective-bacteria",
   "metadata": {},
   "outputs": [],
   "source": [
    "a = 17\n",
    "b = 7\n",
    "c = 5\n",
    "ans_1 = int(a * b / c) # could also be done a few other ways using round() or integer division (//)"
   ]
  },
  {
   "cell_type": "markdown",
   "id": "western-archive",
   "metadata": {},
   "source": [
    "# 2. Math and strings\n",
    "Modify the code below so that it runs properly. We want the variable `ans` to contain a string with the average number of people per US state. The number of people should be a round number (integer) rounded to the next-lowest value."
   ]
  },
  {
   "cell_type": "code",
   "execution_count": 2,
   "id": "suited-switzerland",
   "metadata": {},
   "outputs": [],
   "source": [
    "ans_2 = 'The number of people per US state on average is ' + str(int(400000000/50))"
   ]
  },
  {
   "cell_type": "markdown",
   "id": "instant-curtis",
   "metadata": {},
   "source": [
    "# 3. Variables\n",
    "Create a new variable called `total_snowfall` that gets the average of the `day1` and `day2` values."
   ]
  },
  {
   "cell_type": "code",
   "execution_count": 3,
   "id": "silent-cornell",
   "metadata": {},
   "outputs": [],
   "source": [
    "day1 = 5.5\n",
    "day2 = 17.2\n",
    "total_snowfall = (day1 + day2) / 2"
   ]
  },
  {
   "cell_type": "markdown",
   "id": "different-conservation",
   "metadata": {},
   "source": [
    "# 4. Lists\n",
    "Create a list with the values of snowfall (from top to bottom) from the following table:\n",
    "\n",
    "| City          | Snowfall |\n",
    "|---------------|----------|\n",
    "| Denver        | 2.1      |\n",
    "| Boulder       | 3.2      |\n",
    "| Nederland     | 7.7      |\n",
    "| Phoenix       |   0      |"
   ]
  },
  {
   "cell_type": "code",
   "execution_count": 4,
   "id": "ordinary-boutique",
   "metadata": {},
   "outputs": [],
   "source": [
    "snowfall_list = [2.1, 3.2, 7.7, 0]"
   ]
  },
  {
   "cell_type": "markdown",
   "id": "proof-object",
   "metadata": {},
   "source": [
    "# 5. Lists part 2\n",
    "Retrieve the second element of `snowfall_list` and store it in the variable `boulder`."
   ]
  },
  {
   "cell_type": "code",
   "execution_count": 5,
   "id": "historical-civilization",
   "metadata": {},
   "outputs": [],
   "source": [
    "boulder = snowfall_list[1]"
   ]
  },
  {
   "cell_type": "markdown",
   "id": "afraid-sunset",
   "metadata": {},
   "source": [
    "# 6. Lists part 3\n",
    "Store the length of the list in the `num_cities` variable."
   ]
  },
  {
   "cell_type": "code",
   "execution_count": 6,
   "id": "silver-poverty",
   "metadata": {},
   "outputs": [],
   "source": [
    "num_cities = len(snowfall_list)"
   ]
  },
  {
   "cell_type": "markdown",
   "id": "selected-apache",
   "metadata": {},
   "source": [
    "# 7. Lists part 4\n",
    "Add one more value to the end of the `sun_index` list below: 17."
   ]
  },
  {
   "cell_type": "code",
   "execution_count": 7,
   "id": "comfortable-stomach",
   "metadata": {},
   "outputs": [],
   "source": [
    "sun_index = [5, 11, 23]\n",
    "sun_index.append(17)"
   ]
  },
  {
   "cell_type": "markdown",
   "id": "dimensional-bryan",
   "metadata": {},
   "source": [
    "# 8. Dictionaries\n",
    "Create a dictionary from the snowfall table that has the city name as keys and the snowfall as values.\n",
    "\n",
    "| City          | Snowfall |\n",
    "|---------------|----------|\n",
    "| Denver        | 2.1      |\n",
    "| Boulder       | 3.2      |\n",
    "| Nederland     | 7.7      |\n",
    "| Phoenix       |   0      |"
   ]
  },
  {
   "cell_type": "code",
   "execution_count": 8,
   "id": "elder-skill",
   "metadata": {},
   "outputs": [],
   "source": [
    "snowfall_dictionary = {'Denver': 2.1, 'Boulder': 3.2, 'Nederland': 7.7, 'Phoenix': 0}"
   ]
  },
  {
   "cell_type": "markdown",
   "id": "global-service",
   "metadata": {},
   "source": [
    "# 9. Dictionaries part 2\n",
    "Retrieve the value for Boulder's snowfall from `snowfall_dictionary`."
   ]
  },
  {
   "cell_type": "code",
   "execution_count": 9,
   "id": "latter-particular",
   "metadata": {},
   "outputs": [],
   "source": [
    "boulder_snowfall = snowfall_dictionary['Boulder']"
   ]
  },
  {
   "cell_type": "markdown",
   "id": "growing-mississippi",
   "metadata": {},
   "source": [
    "# 10. Functions\n",
    "Complete the function to retrieve the biggest snowfall value from the input list to the function."
   ]
  },
  {
   "cell_type": "code",
   "execution_count": 10,
   "id": "unavailable-jefferson",
   "metadata": {},
   "outputs": [],
   "source": [
    "def get_biggest_snowfall(a_snowfall_list):\n",
    "    return max(a_snowfall_list)"
   ]
  },
  {
   "cell_type": "markdown",
   "id": "elder-british",
   "metadata": {},
   "source": [
    "# 11. `for` loops\n",
    "Loop through `snowfall_list` and complete the function to print out each snowfall value."
   ]
  },
  {
   "cell_type": "code",
   "execution_count": 11,
   "id": "alpine-annotation",
   "metadata": {},
   "outputs": [],
   "source": [
    "def loop_thru_snowfall(a_snowfall_list):\n",
    "    for snow_val in a_snowfall_list:\n",
    "        print(snow_val)"
   ]
  },
  {
   "cell_type": "markdown",
   "id": "textile-breast",
   "metadata": {},
   "source": [
    "# 12. `while` loops\n",
    "Modify the code so the loop terminates when the counter has reached 10."
   ]
  },
  {
   "cell_type": "code",
   "execution_count": 12,
   "id": "relative-mobile",
   "metadata": {},
   "outputs": [],
   "source": [
    "counter = 0\n",
    "while True:\n",
    "    counter += 1\n",
    "    if counter == 10:\n",
    "        break"
   ]
  },
  {
   "cell_type": "markdown",
   "id": "reliable-windows",
   "metadata": {},
   "source": [
    "# 13. `if` statements\n",
    "Finish the function so that:\n",
    "- it prints the name of the city, then a colon, then the value (example: `Boulder: 3.2`)\n",
    "- the snowfall value is only printed out if it is greater than 3\n",
    "- if the snowfall is 0, print out the city name, then a colon, then \"No snow!\".\n",
    "\n",
    "You can test it with the `snowfall_dictionary`. Your results should look like: \n",
    "\n",
    "```\n",
    "Boulder: 3.2\n",
    "Nederland: 7.7\n",
    "Phoenix: No snow!\n",
    "```"
   ]
  },
  {
   "cell_type": "code",
   "execution_count": 13,
   "id": "declared-remove",
   "metadata": {},
   "outputs": [],
   "source": [
    "def print_snowfall(a_snowfall_dictionary):\n",
    "    for city, snow_val in a_snowfall_dictionary.items():\n",
    "        if snow_val > 3:\n",
    "            print(f'{city}: {snow_val}')\n",
    "        elif snow_val == 0:\n",
    "            print(f'{city}: No snow!')"
   ]
  },
  {
   "cell_type": "code",
   "execution_count": 14,
   "id": "express-fields",
   "metadata": {},
   "outputs": [
    {
     "name": "stdout",
     "output_type": "stream",
     "text": [
      "Boulder: 3.2\n",
      "Nederland: 7.7\n",
      "Phoenix: No snow!\n"
     ]
    }
   ],
   "source": [
    "print_snowfall(snowfall_dictionary)"
   ]
  },
  {
   "cell_type": "markdown",
   "id": "editorial-vegetation",
   "metadata": {},
   "source": [
    "# 14. Classes\n",
    "Create a new variable from the `Mortgage` class called 'new_mortgage'. The loan should be for a value of 10,000 with an annual rate of 8.5% (use 0.085 for the interest rate) for 2 years. Use the `makePayment()` method once to simulate making a single payment on the loan.\n",
    "\n",
    "(The code below is from the book used in MSC575: *Introduction to Computation and Programming Using Python* by Guttag)."
   ]
  },
  {
   "cell_type": "code",
   "execution_count": 15,
   "id": "crazy-fifty",
   "metadata": {},
   "outputs": [],
   "source": [
    "class Mortgage(object):\n",
    "    \"\"\"Abstract class for building different kinds of mortgages\"\"\"\n",
    "    def __init__(self, loan, annRate, months):\n",
    "        \"\"\"Assumes: loan and annRate are floats, months an int\n",
    "        Creates a new mortgage of size loan, duration months, and\n",
    "        annual rate annRate\"\"\"\n",
    "        self.loan = loan\n",
    "        self.rate = annRate/12\n",
    "        self.months = months\n",
    "        self.paid = [0.0]\n",
    "        self.outstanding = [loan]\n",
    "        self.payment = self.findPayment(loan, self.rate, months)\n",
    "        self.legend = None #description of mortgage\n",
    "        \n",
    "    def makePayment(self):\n",
    "        \"\"\"Make a payment\"\"\"\n",
    "        self.paid.append(self.payment)\n",
    "        reduction = self.payment - self.outstanding[-1]*self.rate\n",
    "        self.outstanding.append(self.outstanding[-1] - reduction)\n",
    "    \n",
    "    def getTotalPaid(self):\n",
    "        \"\"\"Return the total amount paid so far\"\"\"\n",
    "        return sum(self.paid)\n",
    "\n",
    "    def __str__(self):\n",
    "        return self.legend\n",
    "    \n",
    "    \n",
    "    def findPayment(self, loan, r, m):\n",
    "        \"\"\"Assumes: loan and r are floats, m an int\n",
    "        Returns the monthly payment for a mortgage of size\n",
    "        loan at a monthly rate of r for m months\"\"\"\n",
    "        return loan*((r*(1+r)**m)/((1+r)**m - 1))"
   ]
  },
  {
   "cell_type": "code",
   "execution_count": 16,
   "id": "imported-disability",
   "metadata": {},
   "outputs": [],
   "source": [
    "new_mortgage = Mortgage(10000, 0.085, 24)\n",
    "new_mortgage.makePayment()"
   ]
  },
  {
   "cell_type": "markdown",
   "id": "authentic-ottawa",
   "metadata": {},
   "source": [
    "# 15. Packages and modules\n",
    "Import the `os` module and use the `getcwd()` function to get your current working directory. Store this value in the variable `cwd`."
   ]
  },
  {
   "cell_type": "code",
   "execution_count": 17,
   "id": "minute-purchase",
   "metadata": {},
   "outputs": [],
   "source": [
    "import os\n",
    "cwd = os.getcwd()"
   ]
  },
  {
   "cell_type": "markdown",
   "id": "circular-garden",
   "metadata": {},
   "source": [
    "# Check your score\n",
    "That's the end! Run the cell below to check your score. If you scored 70% or more, you are ready to start MSDS600."
   ]
  },
  {
   "cell_type": "code",
   "execution_count": 18,
   "id": "working-appearance",
   "metadata": {},
   "outputs": [
    {
     "name": "stdout",
     "output_type": "stream",
     "text": [
      "Great work! You aced it. You should be good to go for MSDS600.\n"
     ]
    }
   ],
   "source": [
    "from check_answers import calculate_score\n",
    "\n",
    "calculate_score(globals())"
   ]
  },
  {
   "cell_type": "markdown",
   "id": "plastic-clerk",
   "metadata": {},
   "source": [
    " If you scored under 70% or this took you more than an hour to complete, you should consider doing one of the following:\n",
    "\n",
    "- take MSC575 Statistical Computing from Regis\n",
    "- use online resources to learn some Python basics\n",
    "\n",
    "Some good online resources for learning Python are:\n",
    "- [Udacity](https://www.udacity.com/course/introduction-to-python--ud1110)\n",
    "- [Kaggle](https://www.kaggle.com/learn/overview) (not intended for complete beginners)\n",
    "- [DataQuest](https://www.dataquest.io/course/python-for-data-science-fundamentals/)\n",
    "- [DataCamp's Python track](https://www.datacamp.com/tracks/python-fundamentals) (the intro/intermediate Python courses)\n",
    "- [Coursera](https://www.coursera.org/learn/python)"
   ]
  }
 ],
 "metadata": {
  "kernelspec": {
   "display_name": "Python 3",
   "language": "python",
   "name": "python3"
  },
  "language_info": {
   "codemirror_mode": {
    "name": "ipython",
    "version": 3
   },
   "file_extension": ".py",
   "mimetype": "text/x-python",
   "name": "python",
   "nbconvert_exporter": "python",
   "pygments_lexer": "ipython3",
   "version": "3.8.5"
  }
 },
 "nbformat": 4,
 "nbformat_minor": 5
}
